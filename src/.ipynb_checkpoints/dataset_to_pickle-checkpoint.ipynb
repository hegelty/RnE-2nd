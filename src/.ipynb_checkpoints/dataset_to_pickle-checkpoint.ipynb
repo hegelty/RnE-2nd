{
 "cells": [
  {
   "cell_type": "code",
   "execution_count": 2,
   "id": "28440889",
   "metadata": {},
   "outputs": [],
   "source": [
    "import pickle\n",
    "from dev.data_preprocessing import faceMesh_video\n",
    "from dev.data_preprocessing import handPose_video\n",
    "from dev.data_preprocessing import points_to_displacement\n"
   ]
  },
  {
   "cell_type": "code",
   "execution_count": null,
   "id": "fef77dc7",
   "metadata": {},
   "outputs": [],
   "source": [
    "with open('../dataset/processed/KSL_handpose_and_facemesh.p', 'wb') as file:\n",
    "    dataset_pickle = []\n",
    "    \n",
    "    for i in range(78):\n",
    "        for j in range(20):\n",
    "            face_count = 478\n",
    "            hand_count = 21\n",
    "            face_points = faceMesh_video(i, j)\n",
    "            hand_points = handPose_video(i, j)\n",
    "            \n",
    "            point_displacements = [] # 모든 점에 대한 변위 데이터 저장\n",
    "            \n",
    "            # 한 영상에서의 변위데이터 딕셔너리 배열 가져옴\n",
    "            displacement = points_to_displacement(face_points, face_count, hand_points, hand_count)\n",
    "            \n",
    "            for per_frame_data in displacement:\n",
    "                temp = per_frame_data['face'] + per_frame_data['hands']['left'] + per_frame_data['hands']['right']\n",
    "                point_displacements.append(temp)\n",
    "            \n",
    "            print(f'{str(wnum(i).zfill(2))}번째')\n",
    "            video_data = [point_displacements, i]\n",
    "            dataset_pickle.append(video_data)\n",
    "            "
   ]
  }
 ],
 "metadata": {
  "kernelspec": {
   "display_name": "Python 3 (ipykernel)",
   "language": "python",
   "name": "python3"
  },
  "language_info": {
   "codemirror_mode": {
    "name": "ipython",
    "version": 3
   },
   "file_extension": ".py",
   "mimetype": "text/x-python",
   "name": "python",
   "nbconvert_exporter": "python",
   "pygments_lexer": "ipython3",
   "version": "3.10.6"
  }
 },
 "nbformat": 4,
 "nbformat_minor": 5
}
